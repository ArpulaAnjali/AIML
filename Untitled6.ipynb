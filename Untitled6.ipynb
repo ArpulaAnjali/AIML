{
  "nbformat": 4,
  "nbformat_minor": 0,
  "metadata": {
    "colab": {
      "provenance": [],
      "authorship_tag": "ABX9TyObREqBXd73JIi/8gtlGA8I",
      "include_colab_link": true
    },
    "kernelspec": {
      "name": "python3",
      "display_name": "Python 3"
    },
    "language_info": {
      "name": "python"
    }
  },
  "cells": [
    {
      "cell_type": "markdown",
      "metadata": {
        "id": "view-in-github",
        "colab_type": "text"
      },
      "source": [
        "<a href=\"https://colab.research.google.com/github/ArpulaAnjali/AIML/blob/main/Untitled6.ipynb\" target=\"_parent\"><img src=\"https://colab.research.google.com/assets/colab-badge.svg\" alt=\"Open In Colab\"/></a>"
      ]
    },
    {
      "cell_type": "code",
      "execution_count": 10,
      "metadata": {
        "colab": {
          "base_uri": "https://localhost:8080/"
        },
        "id": "4HWdQT4byJjo",
        "outputId": "f3277efe-6479-4b00-e666-8958d6381ced"
      },
      "outputs": [
        {
          "output_type": "stream",
          "name": "stdout",
          "text": [
            "The adjacency List representing the graph is:\n",
            "{0: [1, 3], 1: [0, 2, 3], 2: [1, 4, 5], 3: [0, 1, 4], 4: [2, 3, 5], 5: [2, 4]}\n",
            "BFS traversal of graph with source 0 is:\n",
            "0-->1-->3-->2-->4-->5-->"
          ]
        }
      ],
      "source": [
        "from queue import Queue\n",
        "\n",
        "graph = {0: [1, 3],\n",
        "         1: [0,2,3],\n",
        "         2: [1,4,5],\n",
        "         3: [0,1,4],\n",
        "         4: [2,3,5],\n",
        "         5: [2,4]\n",
        "         }\n",
        "print(\"The adjacency List representing the graph is:\")\n",
        "print(graph)\n",
        "\n",
        "\n",
        "def bfs(graph, source):\n",
        "    Q = Queue()\n",
        "    visited_vertices = set()\n",
        "    Q.put(source)\n",
        "    visited_vertices.update({source})\n",
        "    while not Q.empty():\n",
        "        vertex = Q.get()\n",
        "        print(vertex, end=\"-->\")\n",
        "        for u in graph[vertex]:\n",
        "            if u not in visited_vertices:\n",
        "                Q.put(u)\n",
        "                visited_vertices.update({u})\n",
        "\n",
        "print(\"BFS traversal of graph with source 0 is:\")\n",
        "bfs(graph,0)"
      ]
    },
    {
      "cell_type": "code",
      "source": [
        "graph1 = {\n",
        "    'A' : ['B','S'],\n",
        "    'S' : ['A','C','G'],\n",
        "    'G' : ['S','F','H'],\n",
        "    'H' : ['G','E'],\n",
        "    'E' : ['C','H'],\n",
        "    'D' : ['C'],\n",
        "    'F' : ['C','G'],\n",
        "    'C' : ['E','F','D','S'],\n",
        "    'B' : ['A']\n",
        "}\n",
        "\n",
        "def dfs(graph, node, visited):\n",
        "    if node not in visited:\n",
        "        visited.append(node)\n",
        "        for k in graph[node]:\n",
        "            dfs(graph,k, visited)\n",
        "    return visited\n",
        "\n",
        "visited = dfs(graph1,'B', [])\n",
        "print(visited)"
      ],
      "metadata": {
        "colab": {
          "base_uri": "https://localhost:8080/"
        },
        "id": "qToY4uFZ4kmQ",
        "outputId": "8442f62f-1dd0-48dd-92cf-7e9bb6ed2d23"
      },
      "execution_count": 14,
      "outputs": [
        {
          "output_type": "stream",
          "name": "stdout",
          "text": [
            "['B', 'A', 'S', 'C', 'E', 'H', 'G', 'F', 'D']\n"
          ]
        }
      ]
    },
    {
      "cell_type": "code",
      "source": [
        "from copy import deepcopy Imaort numpy as np\n",
        "\n",
        "import time\n",
        "\n",
        "def bestsolution/state):\n",
        "\n",
        "bestsol-np.array([], int).reshape(1.9)\n",
        "\n",
        "count = len(state)-1\n",
        "\n",
        "while count -1: bestsol = np.insert(bestsol, 0, state count('puzzle'), 0) count-(state count['parent')\n",
        "\n",
        "return bestsol.reshape(-1. 3, 31\n",
        "\n",
        "#checks for the uniqueness of the iteration(it).\n",
        "\n",
        "def all (checkarray):\n",
        "\n",
        "set- for it in set:\n",
        "\n",
        "for chackarray init return 1\n",
        "\n",
        "else:\n",
        "\n",
        "return 0\n",
        "\n",
        "#number of misplaced tiles del misplaced tiles/puzzle,goal): mscost-ap.sum(puzzle 1-goal)-1 return imscost if mscost > else 0\n",
        "\n",
        "det coordinates/puzzle)\n",
        "\n",
        "pos = np.array range(91) for p, q in enumerate(puzzle)\n",
        "\n",
        "return pos\n",
        "\n",
        "start of 8 puzzle evaluvation, using Misplaced tiles heuristics\n",
        "\n",
        "det evaluvate misplaced(puzzle, goal):\n",
        "\n",
        "steps = np.array[[['up, [0, 1, 2], 31,('down', (6, 7, 8], 31, 'left', D, 4, 6, 11,('right', (2, 3, 8], 1], dtype I'move, str. 11('position', list], ['head', int[])\n",
        "\n",
        "dtstate-Cauzzle', list), ('parent, Int), l'en Intl(\"ha', int)\n",
        "\n",
        "costg-coordinates(goal)\n",
        "\n",
        "initializing the parent. gn and hn, where in is misplaced tiles function call\n",
        "\n",
        "parent= -0\n",
        "\n",
        "hnmisplaced_tiles/coordinates puzzle), costg)\n",
        "\n",
        "state = np.array[[[puzzle, perent, gn, hn)], ditstatel #pirarity queues with position as keys and fo as value.\n",
        "\n",
        "dtpriority-[[position', int), ('to', int)] priority= np.array([[0, hml), dtpriority)\n",
        "\n",
        "while 1: priority= np.sort(priority, kind='mergesort', order=\"fn', 'position ])\n",
        "\n",
        "position, in priority[0]\n",
        "\n",
        "#sort pitanty queue using merge sort, the first element is picked for exploring\n",
        "\n",
        "priority= np.delete priority, 0, 0) puzzle, parent, gn, hn-state[position]\n",
        "\n",
        "puzzle np.array[puzzle)\n",
        "\n",
        "plens int(np.where puzzle = Dj[0])\n",
        "\n",
        "= gn+1\n",
        "\n",
        "C-1\n",
        "\n",
        "start time Lime.time()\n",
        "\n",
        "fors in steps:\n",
        "\n",
        "c=c-1\n",
        "\n",
        "If blank not in s'position']: operistates deepcopy(puzzle)\n",
        "\n",
        "openstates[blank), openstatas blank + s['head']] - openstates(blank + s['head']], openstates[blank)\n",
        "\n",
        "If (np.all(list/state[puzzle!]) end time = time.timeli\n",
        "\n",
        "openstates, 1]).anyi]\n",
        "\n",
        "f( end time start_time > 2):\n",
        "\n",
        "printi The 8 puzzle is unsolvable\")\n",
        "\n",
        "break\n",
        "\n",
        "in-misplaced tiles/coordinates/openstates), costa) generate and add new state in the list\n",
        "\n",
        "-sp.array (openstates, position, gn, hr[], itstate state = np.append(state, q. 2)\n",
        "\n",
        "#t(n) is the sum of cost to reach node.\n",
        "\n",
        "fn=gn + hn\n",
        "\n",
        "q= np.array lien(state)-1, fn)], tpriority)\n",
        "\n",
        "priority-np.append(priority, q.0)\n",
        "\n",
        "Imparray equalfopenstates, goal):\n",
        "\n",
        "print The 8 puzzle is solvable \\n')\n",
        "\n",
        "retum state, len(priority)\n",
        "\n",
        "return state, len(priority)\n",
        "\n",
        "# initial state puzzle\n",
        "\n",
        "puzzle.sopend(2)\n",
        "\n",
        "puzzle.append(8)\n",
        "\n",
        "puzzle.append(3)\n",
        "\n",
        "puzzle.append(1\n",
        "\n",
        "puzzle.append(6)\n",
        "\n",
        "puzzle.append(4)\n",
        "\n",
        "puzzle.append(7)\n",
        "\n",
        "puzzle.append(0) puzzle.append(5)\n",
        "\n",
        "Ngoal state\n",
        "\n",
        "goa\n",
        "\n",
        "goal.append(1)\n",
        "\n",
        "goal.append(2) goal.append(3)\n",
        "\n",
        "goal append(81 goal.append(0)\n",
        "\n",
        "goal.append(4)\n",
        "\n",
        "goal append(bl goal.append(5)\n",
        "\n",
        "beatpath = bestsölütionjätate\n",
        "\n",
        "total moves-enjbestparn\n",
        "\n",
        "print/oSteps to reach goal:', totalmovesi Visit len(state)-visited:\n",
        "\n",
        "print! Totalnodes visited:',visit. \"\\n\")"
      ],
      "metadata": {
        "colab": {
          "base_uri": "https://localhost:8080/",
          "height": 106
        },
        "id": "JXtMxGfVFrmi",
        "outputId": "7e67e9cd-a1c0-4b96-a648-730d9297cf0a"
      },
      "execution_count": 15,
      "outputs": [
        {
          "output_type": "error",
          "ename": "SyntaxError",
          "evalue": "unmatched ')' (<ipython-input-15-8aa8a45f0f72>, line 5)",
          "traceback": [
            "\u001b[0;36m  File \u001b[0;32m\"<ipython-input-15-8aa8a45f0f72>\"\u001b[0;36m, line \u001b[0;32m5\u001b[0m\n\u001b[0;31m    def bestsolution/state):\u001b[0m\n\u001b[0m                          ^\u001b[0m\n\u001b[0;31mSyntaxError\u001b[0m\u001b[0;31m:\u001b[0m unmatched ')'\n"
          ]
        }
      ]
    },
    {
      "cell_type": "code",
      "source": [],
      "metadata": {
        "id": "v9uwoF8hHc-u"
      },
      "execution_count": null,
      "outputs": []
    }
  ]
}