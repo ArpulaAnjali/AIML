{
  "nbformat": 4,
  "nbformat_minor": 0,
  "metadata": {
    "colab": {
      "provenance": [],
      "authorship_tag": "ABX9TyNmc3VR7dwkrQt0OIEj4key",
      "include_colab_link": true
    },
    "kernelspec": {
      "name": "python3",
      "display_name": "Python 3"
    },
    "language_info": {
      "name": "python"
    }
  },
  "cells": [
    {
      "cell_type": "markdown",
      "metadata": {
        "id": "view-in-github",
        "colab_type": "text"
      },
      "source": [
        "<a href=\"https://colab.research.google.com/github/ArpulaAnjali/AIML/blob/main/Untitled5.ipynb\" target=\"_parent\"><img src=\"https://colab.research.google.com/assets/colab-badge.svg\" alt=\"Open In Colab\"/></a>"
      ]
    },
    {
      "cell_type": "code",
      "execution_count": 5,
      "metadata": {
        "colab": {
          "base_uri": "https://localhost:8080/"
        },
        "id": "X9YcnBKdtg8d",
        "outputId": "805748ef-cbbc-41f7-c647-3f095a78f1de"
      },
      "outputs": [
        {
          "output_type": "stream",
          "name": "stdout",
          "text": [
            "[1.1, 0.55, 1.1600000000000001]\n"
          ]
        }
      ],
      "source": [
        "input=[0.4,0.3,1,0.8]\n",
        "weights1=[0.3,0.2,0.1,0.4]\n",
        "weights2=[0.4,0.1,-0.1,0.2]\n",
        "weights3=[0.2,-0.2,-0.1,0.8]\n",
        "bias1=0.5\n",
        "bias2=0.3\n",
        "bias3=0.6\n",
        "output=[input[0]*weights1[0]+input[1]*weights1[1]+input[2]*weights1[2]+input[3]*weights1[3]+bias1,\n",
        "       input[0]*weights2[0]+input[1]*weights2[1]+input[2]*weights2[2]+input[3]*weights2[3]+bias2,\n",
        "       input[0]*weights3[0]+input[1]*weights3[1]+input[2]*weights3[2]+input[3]*weights3[3]+bias3]\n",
        "print(output)"
      ]
    }
  ]
}