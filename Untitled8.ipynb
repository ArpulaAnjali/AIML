{
  "nbformat": 4,
  "nbformat_minor": 0,
  "metadata": {
    "colab": {
      "provenance": [],
      "authorship_tag": "ABX9TyN0ncCTSHcCPxLValqCjERM",
      "include_colab_link": true
    },
    "kernelspec": {
      "name": "python3",
      "display_name": "Python 3"
    },
    "language_info": {
      "name": "python"
    }
  },
  "cells": [
    {
      "cell_type": "markdown",
      "metadata": {
        "id": "view-in-github",
        "colab_type": "text"
      },
      "source": [
        "<a href=\"https://colab.research.google.com/github/ArpulaAnjali/AIML/blob/main/Untitled8.ipynb\" target=\"_parent\"><img src=\"https://colab.research.google.com/assets/colab-badge.svg\" alt=\"Open In Colab\"/></a>"
      ]
    },
    {
      "cell_type": "code",
      "execution_count": 2,
      "metadata": {
        "colab": {
          "base_uri": "https://localhost:8080/"
        },
        "id": "WxBc6dsSnvLV",
        "outputId": "79c72ca6-f6c6-4dfa-e518-bdd9fa1348e5"
      },
      "outputs": [
        {
          "output_type": "stream",
          "name": "stdout",
          "text": [
            "[1.1, 0.55, 1.1600000000000001]\n"
          ]
        }
      ],
      "source": [
        "input=[0.4,0.3,1,0.8]\n",
        "weights1=[0.3,0.2,0.1,0.4]\n",
        "weights2=[0.4,0.1,-0.1,0.2]\n",
        "weights3=[0.2,-0.2,-0.1,0.8]\n",
        "bias1=0.5\n",
        "bias2=0.3\n",
        "bias3=0.6\n",
        "output=[input[0]*weights1[0]+input[1]*weights1[1]+input[2]*weights1[2]+input[3]*weights1[3]+bias1,\n",
        "       input[0]*weights2[0]+input[1]*weights2[1]+input[2]*weights2[2]+input[3]*weights2[3]+bias2,\n",
        "       input[0]*weights3[0]+input[1]*weights3[1]+input[2]*weights3[2]+input[3]*weights3[3]+bias3]\n",
        "print(output)"
      ]
    },
    {
      "cell_type": "code",
      "source": [
        "import numpy as np\n",
        "inputs=np.array([0.4,0.3,1,0.8])\n",
        "weights=np.array([\n",
        "    [0.3,0.2,0.1,0.4],\n",
        "    [0.4,0.1,-0.1,0.2],\n",
        "    [0.2,-0.2,-0.1,0.8]\n",
        "])\n",
        "biases=np.array([0.5,0.3,0.6])\n",
        "output=np.dot(weights,inputs)+biases\n",
        "print(output)"
      ],
      "metadata": {
        "colab": {
          "base_uri": "https://localhost:8080/"
        },
        "id": "IlMLN-HNoGt_",
        "outputId": "7a18e770-432b-470a-8fa3-dd2209ac7619"
      },
      "execution_count": 3,
      "outputs": [
        {
          "output_type": "stream",
          "name": "stdout",
          "text": [
            "[1.1  0.55 1.16]\n"
          ]
        }
      ]
    },
    {
      "cell_type": "code",
      "source": [
        "import numpy as np\n",
        "def sigmoid(x):\n",
        "  return 1/(1+np.exp(-x))\n",
        "def relu(x):\n",
        "  return np.maximum(0,x)\n",
        "inputs=np.array([0.4,0.3,1,0.8])\n",
        "weights=np.array([\n",
        "    [0.3,0.2,0.1,0.4],\n",
        "    [0.4,0.1,-0.1,0.2],\n",
        "    [0.2,-0.2,-0.1,0.8]\n",
        "])\n",
        "biases=np.array([0.5,0.3,0.6])\n",
        "output1=relu(output)\n",
        "print(output1)\n",
        "output2=sigmoid(output)\n",
        "print(output2)"
      ],
      "metadata": {
        "colab": {
          "base_uri": "https://localhost:8080/"
        },
        "id": "W81qT6BUoMzf",
        "outputId": "7f2fa6b6-20b8-44dd-cff7-73bce48225f1"
      },
      "execution_count": 4,
      "outputs": [
        {
          "output_type": "stream",
          "name": "stdout",
          "text": [
            "[1.1  0.55 1.16]\n",
            "[0.75026011 0.63413559 0.76133271]\n"
          ]
        }
      ]
    },
    {
      "cell_type": "code",
      "source": [
        "inputs=[1,2,3]\n",
        "weights=[0.2,0.3,-0.5]\n",
        "bias=2\n",
        "output=inputs[0]*weights[0]+inputs[1]*weights[1]+inputs[2]*weights[2]+bias\n",
        "print(output)"
      ],
      "metadata": {
        "colab": {
          "base_uri": "https://localhost:8080/"
        },
        "id": "YeFJkqDLoQNX",
        "outputId": "84bf13c4-3571-4736-e73c-d0e69188eea6"
      },
      "execution_count": 5,
      "outputs": [
        {
          "output_type": "stream",
          "name": "stdout",
          "text": [
            "1.3\n"
          ]
        }
      ]
    }
  ]
}